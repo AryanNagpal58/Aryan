import numpy as np


list = [20, 27, 9, 12, 31, 17, 4, 50, 39, 35]


arr = np.array(list)
print (arr * 4)





middle_length = len(arr) // 2
median = 0
if middle_length % 2 == 0:
    median = (arr[middle_length - 1] + arr[middle_length] / 2)
    print (median)
else:
    median = (arr[middle_length])
    print (median)


    


def standard_deviation(arr):
    sum = 0
    new_sum = 0
    for item in arr:
        sum += item

    length = len(arr)
    mean = sum / length

    for item in arr:
        new_sum += ((item - mean)**2)
    return (np.sqrt(new_sum)/ length)

print (standard_deviation(arr))


def min_index(arr):
    return (np.argmin(arr))

def max_index(arr):
    return (np.argmax(arr))

print (f"Index of minimum value in array: {min_index(arr)}")
print (f"Index of maximum value in array: {max_index(arr)}")

print (f"Minimum value in array: {arr[min_index(arr)]}")
print (f"Maximum value in array: {arr[max_index(arr)]}")

print(np.min(arr))
print(np.max(arr))


new_arr = arr[arr > 20]
print(new_arr)
        
        


matrix = [
    [5, 12, 17, 9],
    [8, 21, 14, 3],
    [6, 13, 19, 11]
]

print(matrix.shape[0])
print(matrix.shape[1])




