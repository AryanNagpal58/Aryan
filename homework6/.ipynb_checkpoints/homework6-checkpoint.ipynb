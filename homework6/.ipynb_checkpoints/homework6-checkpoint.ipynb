{
 "cells": [
  {
   "cell_type": "code",
   "execution_count": 1,
   "id": "eac8a3cd-cb10-4741-bc60-f969d8377753",
   "metadata": {},
   "outputs": [],
   "source": [
    "import numpy as np"
   ]
  },
  {
   "cell_type": "code",
   "execution_count": 2,
   "id": "98c967b1-4e52-4456-9e60-8be93454813a",
   "metadata": {},
   "outputs": [],
   "source": [
    "# 3.1 NumPy Arrays #\n",
    "list = [20, 27, 9, 12, 31, 17, 4, 50, 39, 35]"
   ]
  },
  {
   "cell_type": "code",
   "execution_count": 20,
   "id": "7f703fbe-5f6c-4ec4-b13b-e7560a9b785c",
   "metadata": {},
   "outputs": [
    {
     "name": "stdout",
     "output_type": "stream",
     "text": [
      "[ 80 108  36  48 124  68  16 200 156 140]\n",
      "24.4\n",
      "23.5\n",
      "13.828955130450023\n"
     ]
    }
   ],
   "source": [
    "arr = np.array(list)\n",
    "print (arr * 4)\n",
    "print(np.mean(arr))\n",
    "print(np.median(arr))\n",
    "print(np.std(arr))"
   ]
  },
  {
   "cell_type": "code",
   "execution_count": 6,
   "id": "75421770-393b-47da-a25e-b02475442bcf",
   "metadata": {},
   "outputs": [
    {
     "name": "stdout",
     "output_type": "stream",
     "text": [
      "Index of minimum value in array: 6\n",
      "Index of maximum value in array: 7\n",
      "Minimum value in array: 4\n",
      "Maximum value in array: 50\n",
      "4\n",
      "50\n"
     ]
    }
   ],
   "source": [
    "def min_index(arr):\n",
    "    return (np.argmin(arr))\n",
    "\n",
    "def max_index(arr):\n",
    "    return (np.argmax(arr))\n",
    "\n",
    "print (f\"Index of minimum value in array: {min_index(arr)}\")\n",
    "print (f\"Index of maximum value in array: {max_index(arr)}\")\n",
    "\n",
    "print (f\"Minimum value in array: {arr[min_index(arr)]}\")\n",
    "print (f\"Maximum value in array: {arr[max_index(arr)]}\")\n",
    "\n",
    "print(np.min(arr))\n",
    "print(np.max(arr))"
   ]
  },
  {
   "cell_type": "code",
   "execution_count": 9,
   "id": "c8baaced-2034-45dd-8acb-680e296879f1",
   "metadata": {},
   "outputs": [
    {
     "name": "stdout",
     "output_type": "stream",
     "text": [
      "[27 31 50 39 35]\n"
     ]
    }
   ],
   "source": [
    "new_arr = arr[arr > 20]\n",
    "print(new_arr)\n",
    "        \n",
    "        "
   ]
  },
  {
   "cell_type": "code",
   "execution_count": 41,
   "id": "310c44c4-9892-42a3-a9c8-30bde7bb58ba",
   "metadata": {},
   "outputs": [
    {
     "name": "stdout",
     "output_type": "stream",
     "text": [
      "3\n",
      "4\n",
      "[17 14 19]\n",
      "[ 8 21 14  3]\n",
      "[[10 24 34 18]\n",
      " [16 42 28  6]\n",
      " [12 26 38 22]]\n",
      "[ 6.33333333 15.33333333 16.66666667  7.66666667]\n",
      "11.5\n",
      "[ 5 12 17  9  8 21 14  3  6 13 19 11]\n",
      "(12,)\n",
      "7\n",
      "5\n",
      "(array([3, 4]),)\n"
     ]
    }
   ],
   "source": [
    "# --- 2D NumPy Arrays --- #\n",
    "matrix = np.array([\n",
    "    [5, 12, 17, 9],\n",
    "    [8, 21, 14, 3],\n",
    "    [6, 13, 19, 11]\n",
    "])\n",
    "\n",
    "print(matrix.shape[0])\n",
    "print(matrix.shape[1])\n",
    "\n",
    "print(matrix[:,2])\n",
    "print(matrix[1,:])\n",
    "\n",
    "print(matrix*2)\n",
    "\n",
    "column_means = np.mean(matrix, axis = 0)\n",
    "\n",
    "print(column_means)\n",
    "\n",
    "sum_full_array = 0\n",
    "for float in column_means:\n",
    "    sum_full_array += float\n",
    "\n",
    "print(sum_full_array / 4)\n",
    "\n",
    "new_matrix = matrix.flatten()\n",
    "\n",
    "print(new_matrix)\n",
    "print(new_matrix.shape)\n",
    "# What happened? The matrix got flattened from originally being a 3x4 to being a 1x12, with each entry now being on the same one row #\n",
    "\n",
    "print(np.argmin(new_matrix))\n",
    "print(np.argmax(new_matrix))\n",
    "original_index = matrix.shape\n",
    "flat_index = new_matrix.shape[0]\n",
    "print(np.unravel_index(original_index, flat_index))\n",
    "\n",
    "\n"
   ]
  },
  {
   "cell_type": "code",
   "execution_count": 47,
   "id": "ed849aa8-f78a-41fd-b1bc-c8aa5c521b39",
   "metadata": {},
   "outputs": [
    {
     "name": "stdout",
     "output_type": "stream",
     "text": [
      "[[ 2  3  5]\n",
      " [ 2  3  5]\n",
      " [11 13 17]\n",
      " [11 13 17]\n",
      " [11 13 17]\n",
      " [ 7 10 13]]\n"
     ]
    }
   ],
   "source": [
    "# 4 Prime Star Systems #\n",
    "arr = np.array([\n",
    "    [2, 3, 5],\n",
    "    [14, 6, 8],\n",
    "    [11, 13, 17],\n",
    "    [7, 10, 13]\n",
    "])\n",
    "\n",
    "def prime_row_check(arr):\n",
    "    prime_rows = []\n",
    "\n",
    "    for row in arr:\n",
    "        prime_row = True\n",
    "        for item in row:\n",
    "            if item < 2:\n",
    "                prime_row = False\n",
    "            elif item == 2:\n",
    "                continue\n",
    "            elif item % 2 == 0:\n",
    "                prime_row = False\n",
    "            else:\n",
    "                for i in range(3, int(np.sqrt(item)) + 1, 2):\n",
    "                    if item % i == 0:\n",
    "                        prime_row = False\n",
    "                if not prime_row:\n",
    "                    break\n",
    "            if prime_row:\n",
    "                prime_rows.append(row)\n",
    "    return(np.array(prime_rows))\n",
    "                \n",
    "print(prime_row_check(arr))\n",
    "    "
   ]
  },
  {
   "cell_type": "code",
   "execution_count": 59,
   "id": "3126b6c2-0148-4628-8b54-e436f6fca2b8",
   "metadata": {},
   "outputs": [
    {
     "name": "stdout",
     "output_type": "stream",
     "text": [
      "[[1 0 1 0 1 0 1 0]\n",
      " [0 1 0 1 0 1 0 1]\n",
      " [1 0 1 0 1 0 1 0]\n",
      " [0 1 0 1 0 1 0 1]\n",
      " [1 0 1 0 1 0 1 0]\n",
      " [0 1 0 1 0 1 0 1]\n",
      " [1 0 1 0 1 0 1 0]\n",
      " [0 1 0 1 0 1 0 1]]\n",
      "[[0 1 0 1 0 1 0 1]\n",
      " [1 0 1 0 1 0 1 0]\n",
      " [0 1 0 1 0 1 0 1]\n",
      " [1 0 1 0 1 0 1 0]\n",
      " [0 1 0 1 0 1 0 1]\n",
      " [1 0 1 0 1 0 1 0]\n",
      " [0 1 0 1 0 1 0 1]\n",
      " [1 0 1 0 1 0 1 0]]\n"
     ]
    }
   ],
   "source": [
    "# 5 Let's Play Checkers! #\n",
    "\n",
    "# 5.1 #\n",
    "def eight_by_eight():\n",
    "    array = np.zeros((8, 8), dtype = int)\n",
    "    return(array)\n",
    "\n",
    "array = eight_by_eight()\n",
    "\n",
    "array[::2, ::2] = 1\n",
    "array[1::2,1::2] = 1\n",
    "\n",
    "print (array)\n",
    "\n",
    "#5.4#\n",
    "\n",
    "array = eight_by_eight()\n",
    "array[::2, 1::2] = 1\n",
    "array[1::2, ::2] = 1\n",
    "\n",
    "print(array)\n",
    "\n",
    "\n",
    "        "
   ]
  },
  {
   "cell_type": "code",
   "execution_count": null,
   "id": "006b486a-2d59-4ffa-bd82-2fda170ae4c4",
   "metadata": {},
   "outputs": [],
   "source": [
    "def expansion"
   ]
  }
 ],
 "metadata": {
  "kernelspec": {
   "display_name": "Python 3 (ipykernel)",
   "language": "python",
   "name": "python3"
  },
  "language_info": {
   "codemirror_mode": {
    "name": "ipython",
    "version": 3
   },
   "file_extension": ".py",
   "mimetype": "text/x-python",
   "name": "python",
   "nbconvert_exporter": "python",
   "pygments_lexer": "ipython3",
   "version": "3.13.5"
  }
 },
 "nbformat": 4,
 "nbformat_minor": 5
}
